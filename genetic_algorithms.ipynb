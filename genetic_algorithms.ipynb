{
  "cells": [
    {
      "cell_type": "markdown",
      "metadata": {
        "id": "IgbwqxkW4SvK",
        "colab_type": "text"
      },
      "source": [
        "# Genetic Algorithms\n",
        "\n",
        "Genetic algorithms are a type of algorithm based on evolution theory to solve a range of problems. Most commonly, the problem being solved is an optimization (of a fitness function) problem. They are particularly useful in problems with really large solution spaces, where calculating all the possibilities is computationally infeasable. Additionally, they can be used in conjunction with other machine learning methods (such as neural networks) to produce good or optimal solutions.\n",
        "\n",
        "The approach of genetic algorithms is heavilly inspired by the random mutation of genes that eventually result in the formation of complex organisms. As such, they are non deterministic and require randomness throughout the process. Generally, algorithms will create random initial species, but a biased initialization may be made if suitable. After this initial population is evaluated with the fitness function, the best are selected and their children formed. Naturally. this is achieved by way of combining the best of the population and a certain randomness using some operations called **genetic operators**, which are:\n",
        "\n",
        "* **selection**: Good specimen are chosen to proliferate in later generations, however, a portion of non \"good\" specimen may be included to promote diversity and create new children that arent all derived from the best\n",
        "* **crossover**: Good specimen are combined to create children, there are many possible strategies, one such strategy may be selecting the genes which are sufficiently similar\n",
        "* **mutation**: Good specimen (either from the previous generation or as a result of crossing) are mutated randomly\n",
        "\n",
        "It's important to know that not all these operations have to be performed, (nontheless a selection will always be made) only mutations or corssovers may be performed if suitable, or a combination of both.\n",
        "\n",
        "A simple pseudocode for a genetic algorithm is:\n",
        "\n",
        "```\n",
        "while generations < max_generations or stopping condition is reached:\n",
        "  evaluate_all_specimen\n",
        "  select_best_specimen\n",
        "  specimen = generate_children (by crossover and/or mutation)\n",
        "```\n",
        "\n",
        "Two things are notabe regarding genetic algorithms:\n",
        "\n",
        "* Representation of the genes of a specimen may vary depending on the problem\n",
        "* The most important part is the evaluation function, as such, picking one is not an easy job and the goodness of the resulting solution will depend almost exclusively on this\n",
        "\n",
        "To exemplify a genetic algorithm, lets create a genetic algorithm that will try to guess a string based on an inital one (i.e. transform a string \"vg 48ht5. 45tcxeg wawef\" into \"Hello, world!\".\n",
        "\n",
        "The first thing we will need is a function to generate the initial population, in this case the initial population will be random strings the same length of \"Hello, world!\". We will be placing all functionallity of the algorithm inside a class with a somewhat generic implementation, so that it may be reused for other problems later.\n",
        "\n",
        "[1,0,1,1,0,1]"
      ]
    },
    {
      "cell_type": "code",
      "metadata": {
        "id": "rpIGKo56J1tM",
        "colab_type": "code",
        "outputId": "83c673cb-d49f-4e33-bd0f-6a25a4114aa3",
        "colab": {
          "base_uri": "https://localhost:8080/",
          "height": 55
        }
      },
      "source": [
        "import random\n",
        "\n",
        "class HelloGenetic:\n",
        "  def __init__(self, params):\n",
        "    self.ALL_CHARACTERS = list(\"qwertyuiopasdfghjklñzxcvbnmQWERTYUIOPASDFGHJKLÑZXCVBNM. ,!¡\")\n",
        "    self.HELLO_WORLD = list(\"Hello, world!\")\n",
        "    self.params = params\n",
        "    self.specimen = [None] * self.params[\"generation_size\"]\n",
        "\n",
        "    self.create_initial_population()\n",
        "\n",
        "  def create_initial_population(self):\n",
        "    self.specimen = list(\n",
        "      map(lambda _: random.sample(self.ALL_CHARACTERS, len(self.HELLO_WORLD)),\n",
        "      self.specimen)\n",
        "    )\n",
        "\n",
        "hello = HelloGenetic({\"generation_size\":5})\n",
        "print(hello.specimen)"
      ],
      "execution_count": 10,
      "outputs": [
        {
          "output_type": "stream",
          "name": "stdout",
          "text": "[['H', 'd', 'B', 'C', 'g', 'Z', 'Y', 'f', 'j', 'e', 'w', 't', 'u'], ['Z', '¡', 'y', 'q', 'a', 'ñ', 'O', 'z', 'w', 'F', 'f', 'N', 'B'], ['m', '¡', 'g', 'S', 'A', 'F', 'h', 'j', 'a', 'T', 'D', 'I', 'k'], ['B', 'X', ' ', 'C', 'Q', 'r', 'F', 'K', '.', 'D', 'W', 'u', 'k'], ['w', 'd', 'E', 'R', 'f', 'P', 'Q', 'b', 'u', 'V', 'e', 'A', 'I']]\n"
        }
      ]
    },
    {
      "cell_type": "markdown",
      "metadata": {
        "id": "EfoICZXJWEjd",
        "colab_type": "text"
      },
      "source": [
        "Now that we have this, we can declare the general genetic algorithm in the **run** function. We will add some empty functions for now."
      ]
    },
    {
      "cell_type": "code",
      "metadata": {
        "id": "oiFUPstzWMxJ",
        "colab_type": "code",
        "colab": {}
      },
      "source": [
        "import random\n",
        "\n",
        "class HelloGenetic:\n",
        "  def __init__(self, params):\n",
        "    self.ALL_CHARACTERS = list(\"qwertyuiopasdfghjklñzxcvbnmQWERTYUIOPASDFGHJKLÑZXCVBNM. ,!¡\")\n",
        "    self.HELLO_WORLD = list(\"Hello, world!\")\n",
        "    self.params = params\n",
        "    self.specimen = [None] * self.params[\"generation_size\"]\n",
        "\n",
        "    self.create_initial_population()\n",
        "\n",
        "  def create_initial_population(self):\n",
        "    self.specimen = list(\n",
        "      map(\n",
        "        lambda _: random.sample(self.ALL_CHARACTERS, len(self.HELLO_WORLD)),\n",
        "        self.specimen\n",
        "      )\n",
        "    )\n",
        "\n",
        "  def is_converged(self):\n",
        "    pass\n",
        "    \n",
        "  def get_fit(self):\n",
        "    pass\n",
        "  \n",
        "  def fitness_all(self):\n",
        "    pass\n",
        "  \n",
        "  def select_specimen(self):\n",
        "    pass\n",
        "  \n",
        "  def generate_children(self):\n",
        "    pass\n",
        "  \n",
        "  def run(self):\n",
        "    generation_number = 1\n",
        "\n",
        "    while generation_number <= self.params[\"max_generations\"] and not self.is_converged():\n",
        "      top_generation = self.get_fit()\n",
        "      \n",
        "      print(f\"Generation #{generation_number}:\\t{top_generation[0]}\\t{top_generation[1]}\")\n",
        "\n",
        "      specimen_evaluations = self.fitness_all()\n",
        "      selected_specimen = self.select_specimen(specimen_evaluations)\n",
        "      \n",
        "      self.specimen = self.generate_children(selected_specimen)\n",
        "      \n",
        "      generation_number += 1\n",
        "    \n",
        "    return self.get_fit()"
      ],
      "execution_count": 11,
      "outputs": []
    },
    {
      "cell_type": "markdown",
      "metadata": {
        "id": "vs6kjLthbX9J",
        "colab_type": "text"
      },
      "source": [
        "Now, we need to implement the **converged** function, which will in turn need to have the **fitness** functions implemented. The **converged** function will check if any of the specimen have reached an acceptable threshold for the fitness function. The **fitness** function will perform a naive string similarity measure based on the normalized number of matching characters in the target string (there are better string similarity measures)."
      ]
    },
    {
      "cell_type": "code",
      "metadata": {
        "id": "2Y5IWqcRbviU",
        "colab_type": "code",
        "colab": {}
      },
      "source": [
        "def fitness(self, specimen):\n",
        "  return sum(1 for expected, actual in zip(self.HELLO_WORLD, specimen) if expected == actual) / len(self.HELLO_WORLD)\n",
        "\n",
        "def is_converged(self):\n",
        "  if any(self.fitness(specimen) >= self.params[\"fit_threshold\"] for specimen in self.specimen):\n",
        "    return True\n",
        "\n",
        "  return False"
      ],
      "execution_count": 12,
      "outputs": []
    },
    {
      "cell_type": "markdown",
      "metadata": {
        "id": "Gz7z22CvfRgT",
        "colab_type": "text"
      },
      "source": [
        "Now that that has been defined, it's time to define the function **fitness_all** that will generate all specimen evaluations."
      ]
    },
    {
      "cell_type": "code",
      "metadata": {
        "id": "1dVAqclRfgoD",
        "colab_type": "code",
        "colab": {}
      },
      "source": [
        "def fitness_all(self):\n",
        "  return list(map(self.fitness, self.specimen))"
      ],
      "execution_count": 13,
      "outputs": []
    },
    {
      "cell_type": "markdown",
      "metadata": {
        "id": "1uA1SoEQfvLx",
        "colab_type": "text"
      },
      "source": [
        "We will implement the **select_specimen** function to select the top x% of specimen as given by the input parameter."
      ]
    },
    {
      "cell_type": "code",
      "metadata": {
        "id": "GR_bkuayf-JS",
        "colab_type": "code",
        "colab": {}
      },
      "source": [
        "import math\n",
        "\n",
        "def select_specimen(self, specimen_evaluations):\n",
        "  specimen_and_evaluations = list(zip(self.specimen, specimen_evaluations))-> [(['udvud'], 0.1), (['udvud'], 0.1)]\n",
        "\n",
        "  specimen_and_evaluations.sort(key=lambda e: e[1], reverse = True)\n",
        "\n",
        "  n_top = int(math.ceil(len(self.specimen) * self.params[\"select_top\"]))\n",
        "\n",
        "  return list(map(lambda s: s[0], specimen_and_evaluations[:n_top]))"
      ],
      "execution_count": 14,
      "outputs": [
        {
          "output_type": "error",
          "ename": "SyntaxError",
          "evalue": "invalid syntax (<ipython-input-14-86155212fe5d>, line 4)",
          "traceback": [
            "\u001b[1;36m  File \u001b[1;32m\"<ipython-input-14-86155212fe5d>\"\u001b[1;36m, line \u001b[1;32m4\u001b[0m\n\u001b[1;33m    specimen_and_evaluations = list(zip(self.specimen, specimen_evaluations))-> [(['udvud'], 0.1), (['udvud'], 0.1)]\u001b[0m\n\u001b[1;37m                                                                              ^\u001b[0m\n\u001b[1;31mSyntaxError\u001b[0m\u001b[1;31m:\u001b[0m invalid syntax\n"
          ]
        }
      ]
    },
    {
      "cell_type": "markdown",
      "metadata": {
        "id": "g9fjHCFmiaOX",
        "colab_type": "text"
      },
      "source": [
        "Now the only missing functions are **generate children** and **get_fit**, the first will take the selected specimen and complete a generation by mutating the specimen given a parameter describing what % of digits should be mutated."
      ]
    },
    {
      "cell_type": "code",
      "metadata": {
        "id": "wxZHbKp0i-Jb",
        "colab_type": "code",
        "colab": {}
      },
      "source": [
        "import math\n",
        "import random\n",
        "\n",
        "def mutate(self, specimen):\n",
        "  n_digits = int(self.params[\"mutation_percentage\"] * (len(specimen) - 1))\n",
        "\n",
        "  digit_indexes = random.sample(list(range(len(specimen))), n_digits)\n",
        "\n",
        "  mutated = specimen[:]\n",
        "  \n",
        "  for idx in digit_indexes:\n",
        "    mutated[idx] = random.choice(self.ALL_CHARACTERS)\n",
        "\n",
        "  return mutated\n",
        "\n",
        "def generate_children(self, selected_specimen):  \n",
        "  mutated_specimen = [None] * len(self.specimen)\n",
        "  \n",
        "  for i in range(len(mutated_specimen)):\n",
        "    mutated_specimen[i] = self.mutate(random.choice(selected_specimen))\n",
        "  \n",
        "  return mutated_specimen"
      ],
      "execution_count": 15,
      "outputs": []
    },
    {
      "cell_type": "markdown",
      "metadata": {
        "id": "-kQjzts5m5dZ",
        "colab_type": "text"
      },
      "source": [
        "And now, the final function **get_fit** will just get the specimen with the highest fitness score."
      ]
    },
    {
      "cell_type": "code",
      "metadata": {
        "id": "si4Wm3ZMnLxI",
        "colab_type": "code",
        "colab": {}
      },
      "source": [
        "def get_fit(self):\n",
        "    evaluations = self.fitness_all()\n",
        "\n",
        "    max_evaluation = max(evaluations)\n",
        "\n",
        "    max_index = evaluations.index(max_evaluation)\n",
        "\n",
        "    return self.specimen[max_index], max_evaluation"
      ],
      "execution_count": 16,
      "outputs": []
    },
    {
      "cell_type": "markdown",
      "metadata": {
        "id": "QxoWEhUvoCmf",
        "colab_type": "text"
      },
      "source": [
        "Putting it all together:"
      ]
    },
    {
      "cell_type": "code",
      "metadata": {
        "id": "vbi7VBtCoEka",
        "colab_type": "code",
        "colab": {}
      },
      "source": [
        "import random\n",
        "import math\n",
        "\n",
        "class HelloGenetic:\n",
        "  def __init__(self, params):\n",
        "    self.ALL_CHARACTERS = list(\"qwertyuiopasdfghjklñzxcvbnmQWERTYUIOPASDFGHJKLÑZXCVBNM. ,!¡\")\n",
        "    self.HELLO_WORLD = list(\"Hello, world!\")\n",
        "    self.params = params\n",
        "    self.specimen = [None] * self.params[\"generation_size\"]\n",
        "\n",
        "    self.create_initial_population()\n",
        "\n",
        "  def create_initial_population(self):\n",
        "    self.specimen = list(map(lambda _: random.sample(self.ALL_CHARACTERS, len(self.HELLO_WORLD)), self.specimen))\n",
        "\n",
        "  def fitness(self, specimen):\n",
        "    return sum(1 for expected, actual in zip(self.HELLO_WORLD, specimen) if expected == actual) / len(self.HELLO_WORLD)\n",
        "\n",
        "  def is_converged(self):\n",
        "    if any(self.fitness(specimen) >= self.params[\"fit_threshold\"] for specimen in self.specimen):\n",
        "      return True\n",
        "\n",
        "    return False\n",
        "\n",
        "  def get_fit(self):\n",
        "    evaluations = self.fitness_all()\n",
        "\n",
        "    max_evaluation = max(evaluations)\n",
        "\n",
        "    max_index = evaluations.index(max_evaluation)\n",
        "\n",
        "    return self.specimen[max_index], max_evaluation\n",
        "\n",
        "  def fitness_all(self):\n",
        "    return list(map(self.fitness, self.specimen))\n",
        "\n",
        "  def select_specimen(self, specimen_evaluations):\n",
        "    specimen_and_evaluations = list(zip(self.specimen, specimen_evaluations))\n",
        "\n",
        "    specimen_and_evaluations.sort(key=lambda e: e[1], reverse = True)\n",
        "\n",
        "    n_top = int(math.ceil(len(self.specimen) * params[\"select_top\"]))\n",
        "\n",
        "    return list(map(lambda s: s[0], specimen_and_evaluations[:n_top]))\n",
        "  \n",
        "  def mutate(self, specimen):\n",
        "    n_digits = int(params[\"mutation_percentage\"] * (len(specimen) - 1))\n",
        "\n",
        "    digit_indexes = random.sample(list(range(len(specimen))), n_digits)\n",
        "\n",
        "    mutated = specimen[:]\n",
        "\n",
        "    for idx in digit_indexes:\n",
        "      mutated[idx] = random.choice(self.ALL_CHARACTERS)\n",
        "\n",
        "    return mutated\n",
        "\n",
        "  def generate_children(self, selected_specimen):  \n",
        "    mutated_specimen = [None] * len(self.specimen)\n",
        "\n",
        "    for i in range(len(mutated_specimen)):\n",
        "      mutated_specimen[i] = self.mutate(random.choice(selected_specimen))\n",
        "\n",
        "    return mutated_specimen\n",
        "\n",
        "  def run(self):\n",
        "    generation_number = 1\n",
        "\n",
        "    while generation_number <= self.params[\"max_generations\"] and not self.is_converged():\n",
        "      top_generation = self.get_fit()\n",
        "      top_str = \"\".join(top_generation[0])\n",
        "      \n",
        "      print(f\"Generation #{generation_number}:\\t{top_str}\\t{top_generation[1]}\")\n",
        "\n",
        "      specimen_evaluations = self.fitness_all()\n",
        "      selected_specimen = self.select_specimen(specimen_evaluations)\n",
        "      \n",
        "      self.specimen = self.generate_children(selected_specimen)\n",
        "      \n",
        "      generation_number += 1\n",
        "    \n",
        "    return self.get_fit()"
      ],
      "execution_count": 17,
      "outputs": []
    },
    {
      "cell_type": "markdown",
      "metadata": {
        "id": "UCfnZTFCpRz5",
        "colab_type": "text"
      },
      "source": [
        "Now we try it out!"
      ]
    },
    {
      "cell_type": "code",
      "metadata": {
        "id": "fLstX6JJpTvU",
        "colab_type": "code",
        "outputId": "ca801ba8-4870-4d5d-97ae-430bcb9a51ff",
        "colab": {
          "base_uri": "https://localhost:8080/",
          "height": 1000
        },
        "tags": [
          "outputPrepend",
          "outputPrepend"
        ]
      },
      "source": [
        "params = {\n",
        "    \"mutation_percentage\": 0.1,\n",
        "    \"select_top\": 0.4,\n",
        "    \"generation_size\": 20,\n",
        "    \"fit_threshold\": 0.8,\n",
        "    \"max_generations\": 1000\n",
        "}\n",
        "\n",
        "hello = HelloGenetic(params)\n",
        "fit  = hello.run()\n",
        "\n",
        "print(\"\".join(fit[0]), fit[1])"
      ],
      "execution_count": 18,
      "outputs": [
        {
          "output_type": "stream",
          "name": "stdout",
          "text": "ration #602:\tHaNlVw wqrld!\t0.6153846153846154\nGeneration #603:\tHm!ln, wUrldn\t0.6153846153846154\nGeneration #604:\tHtnlnw wnrld,\t0.5384615384615384\nGeneration #605:\tHtClnP wVrldn\t0.5384615384615384\nGeneration #606:\tH¡nlnw wDrld,\t0.5384615384615384\nGeneration #607:\tHeCltP wVrldn\t0.6153846153846154\nGeneration #608:\tHeCltP wVrldn\t0.6153846153846154\nGeneration #609:\tHeCltC wVrldn\t0.6153846153846154\nGeneration #610:\tHeCltC wirldn\t0.6153846153846154\nGeneration #611:\tHeCltC wDrldn\t0.6153846153846154\nGeneration #612:\tHtllqP wfrldO\t0.6153846153846154\nGeneration #613:\tHtllqP wfrldd\t0.6153846153846154\nGeneration #614:\tHSllqP wfrldd\t0.6153846153846154\nGeneration #615:\tHSllqP wfrldQ\t0.6153846153846154\nGeneration #616:\tHSllqP wfrldO\t0.6153846153846154\nGeneration #617:\tHSllqÑ wfrldO\t0.6153846153846154\nGeneration #618:\tHKlluP wfrldc\t0.6153846153846154\nGeneration #619:\tHeZloCHwYrldE\t0.6153846153846154\nGeneration #620:\tHeZloCIwYrldE\t0.6153846153846154\nGeneration #621:\tHeylo¡HwYrldE\t0.6153846153846154\nGeneration #622:\tHeZloCRwUrldE\t0.6153846153846154\nGeneration #623:\tHeÑlofHwYrldE\t0.6153846153846154\nGeneration #624:\tHeclofUwKrldE\t0.6153846153846154\nGeneration #625:\tHeEloCRwÑrldE\t0.6153846153846154\nGeneration #626:\tHeZlofgwQrodI\t0.5384615384615384\nGeneration #627:\tHePloCRhÑrldE\t0.5384615384615384\nGeneration #628:\tHeZloCHtÑrldE\t0.5384615384615384\nGeneration #629:\tHeZloCRIÑrldE\t0.5384615384615384\nGeneration #630:\tHeZloCRIÑrldr\t0.5384615384615384\nGeneration #631:\tHePloekherldh\t0.5384615384615384\nGeneration #632:\tHePloIkhGrldh\t0.5384615384615384\nGeneration #633:\tHeBloC Ijrldñ\t0.6153846153846154\nGeneration #634:\tHe loC Ijrldñ\t0.6153846153846154\nGeneration #635:\tHe loC IÑrldñ\t0.6153846153846154\nGeneration #636:\tHewloC IÑrldñ\t0.6153846153846154\nGeneration #637:\tHe loc Ijrldx\t0.6153846153846154\nGeneration #638:\tHeBlouRYtrld!\t0.6153846153846154\nGeneration #639:\tHeBlouRYUrld!\t0.6153846153846154\nGeneration #640:\tHeLlouRYUrld!\t0.6153846153846154\nGeneration #641:\tHenlouRYUrld!\t0.6153846153846154\nGeneration #642:\tHenloIRYUrld!\t0.6153846153846154\nGeneration #643:\tIenlouRYUrld!\t0.5384615384615384\nGeneration #644:\tIenlouRYUrld!\t0.5384615384615384\nGeneration #645:\tIenlooRYUrld!\t0.5384615384615384\nGeneration #646:\tHenJoGVYUrld!\t0.5384615384615384\nGeneration #647:\tIe.lowRYUrld!\t0.5384615384615384\nGeneration #648:\tHenlooRZirld!\t0.6153846153846154\nGeneration #649:\tHenloo Zirld!\t0.6923076923076923\nGeneration #650:\tHenlooJUirld!\t0.6153846153846154\nGeneration #651:\tHenloLJUirld!\t0.6153846153846154\nGeneration #652:\tHenyotRUSrld!\t0.5384615384615384\nGeneration #653:\tHez¡otRUirld!\t0.5384615384615384\nGeneration #654:\tHenBooRaprld!\t0.5384615384615384\nGeneration #655:\tHeBYosWt!rld!\t0.5384615384615384\nGeneration #656:\tHenYoHWtSrld!\t0.5384615384615384\nGeneration #657:\tHeLYos,tSrld!\t0.5384615384615384\nGeneration #658:\tHezAotCLirld!\t0.5384615384615384\nGeneration #659:\tHex osWtÑrld!\t0.5384615384615384\nGeneration #660:\tHex.oVxtzrld!\t0.5384615384615384\nGeneration #661:\tHex.oNxtzrld!\t0.5384615384615384\nGeneration #662:\tHezwotCUirld!\t0.5384615384615384\nGeneration #663:\tHe.fosWOÑrld!\t0.5384615384615384\nGeneration #664:\tHezzotIÑQrld!\t0.5384615384615384\nGeneration #665:\tHeUeotIUQrld!\t0.5384615384615384\nGeneration #666:\tHeUpo¡yLhrld!\t0.5384615384615384\nGeneration #667:\tHe.VosqYyrld!\t0.5384615384615384\nGeneration #668:\tHe.LosIEÑrld!\t0.5384615384615384\nGeneration #669:\tHe.foSIqÑrld!\t0.5384615384615384\nGeneration #670:\tHe.IoJSYyrld!\t0.5384615384615384\nGeneration #671:\tHe.koSsKIrld!\t0.5384615384615384\nGeneration #672:\tHe.KoSBKmrld!\t0.5384615384615384\nGeneration #673:\tHelIoJbYyrld!\t0.6153846153846154\nGeneration #674:\tHeOWogRFÑrld!\t0.5384615384615384\nGeneration #675:\tHeOWogRcÑrld!\t0.5384615384615384\nGeneration #676:\tHeoKoUBKorld!\t0.6153846153846154\nGeneration #677:\tHeooo,BKmrld!\t0.6153846153846154\nGeneration #678:\tHelZoJPwyrlr!\t0.6153846153846154\nGeneration #679:\tHelZoJPwyrly!\t0.6153846153846154\nGeneration #680:\tHelZoJPwBrly!\t0.6153846153846154\nGeneration #681:\tHelZoJPwyrlw!\t0.6153846153846154\nGeneration #682:\tHelEoJPwyrlw!\t0.6153846153846154\nGeneration #683:\tHelEoJcwyrlw!\t0.6153846153846154\nGeneration #684:\tHelVoJcwyrlw!\t0.6153846153846154\nGeneration #685:\tHelgoJCwArlI!\t0.6153846153846154\nGeneration #686:\tHeldoJiwArlc!\t0.6153846153846154\nGeneration #687:\tHelqoJZwzrlc!\t0.6153846153846154\nGeneration #688:\tHelÑoVBwyrlw!\t0.6153846153846154\nGeneration #689:\tHelÑoV wyrlw!\t0.6923076923076923\nGeneration #690:\tHeldoV wyrlw!\t0.6923076923076923\nGeneration #691:\tHeldoV wyrlw!\t0.6923076923076923\nGeneration #692:\tHeldoi wyrlw!\t0.6923076923076923\nGeneration #693:\tHeldoi wyrlQ!\t0.6923076923076923\nGeneration #694:\tHelro Swrrls!\t0.6153846153846154\nGeneration #695:\tHeldoiUwÑrlf!\t0.6153846153846154\nGeneration #696:\tHeldoiUwÑrlf!\t0.6153846153846154\nGeneration #697:\tHelroiUwdrlf!\t0.6153846153846154\nGeneration #698:\tHeldopUwQrlj!\t0.6153846153846154\nGeneration #699:\tHelcoFSwrrll!\t0.6153846153846154\nGeneration #700:\tHeldoiUwzrlZ!\t0.6153846153846154\nGeneration #701:\tHelcoFPwirlm!\t0.6153846153846154\nGeneration #702:\tHelcoVPwirlm!\t0.6153846153846154\nGeneration #703:\tHeldoRUwVrlV!\t0.6153846153846154\nGeneration #704:\tHelsoVlwirlm!\t0.6153846153846154\nGeneration #705:\tHelGoVPw!rlc!\t0.6153846153846154\nGeneration #706:\tHelFoUUwlrlV!\t0.6153846153846154\nGeneration #707:\tHelcogDwarSm!\t0.5384615384615384\nGeneration #708:\tHOlGoVPwzrlc!\t0.5384615384615384\nGeneration #709:\tHOlGoVWwlrlS!\t0.5384615384615384\nGeneration #710:\tHOlGoVWwlrld!\t0.6153846153846154\nGeneration #711:\tSelGogPw!rlB!\t0.5384615384615384\nGeneration #712:\tSelGogPwTrlB!\t0.5384615384615384\nGeneration #713:\tNelGoNKw!rlo!\t0.5384615384615384\nGeneration #714:\tNelGoPYw!rlc!\t0.5384615384615384\nGeneration #715:\tNelGomYw!rlc!\t0.5384615384615384\nGeneration #716:\tNelGom w!rlc!\t0.6153846153846154\nGeneration #717:\tNelSom w!rlc!\t0.6153846153846154\nGeneration #718:\tNelGom wrrlc!\t0.6153846153846154\nGeneration #719:\tNeldoPCwmrld!\t0.6153846153846154\nGeneration #720:\tNel oPCwmrld!\t0.6153846153846154\nGeneration #721:\tNel oñCwmrld!\t0.6153846153846154\nGeneration #722:\tNel o,Cw!rld!\t0.6923076923076923\nGeneration #723:\tNel o,CD!rld!\t0.6153846153846154\nGeneration #724:\tsel oUCw!rld!\t0.6153846153846154\nGeneration #725:\tÑel oUCwprld!\t0.6153846153846154\nGeneration #726:\tGel oUCwprld!\t0.6153846153846154\nGeneration #727:\tÑelCoUCwRrld!\t0.6153846153846154\nGeneration #728:\tÑel oUCwsrld!\t0.6153846153846154\nGeneration #729:\tÑelMozCwRrld!\t0.6153846153846154\nGeneration #730:\tRelCozCwcrld!\t0.6153846153846154\nGeneration #731:\tÑelCoiOwcrld!\t0.6153846153846154\nGeneration #732:\tRebCozCwcrld!\t0.5384615384615384\nGeneration #733:\tReOCoz,wurld!\t0.5384615384615384\nGeneration #734:\treldoUCrcrld!\t0.5384615384615384\nGeneration #735:\tÑelxoLHwcrVd!\t0.5384615384615384\nGeneration #736:\tÑelCofSwkrldz\t0.5384615384615384\nGeneration #737:\tÑelxoLkwcrrd!\t0.5384615384615384\nGeneration #738:\tZelxoñArcrld!\t0.5384615384615384\nGeneration #739:\tZelxoñrrcrld!\t0.5384615384615384\nGeneration #740:\tÑelxoLHwhr¡d!\t0.5384615384615384\nGeneration #741:\tcelxoCHwcrFd!\t0.5384615384615384\nGeneration #742:\t,elxoC.wkrFd!\t0.5384615384615384\nGeneration #743:\t¡elqoCHwcrFd!\t0.5384615384615384\nGeneration #744:\tJelvoLXwhr¡d!\t0.5384615384615384\nGeneration #745:\t,elnoC.wurGd!\t0.5384615384615384\nGeneration #746:\t¡el!oCHwzrFd!\t0.5384615384615384\nGeneration #747:\t¡elyoCHwzrFd!\t0.5384615384615384\nGeneration #748:\tLelmoLXwkr,d!\t0.5384615384615384\nGeneration #749:\tJelwoDIwhr¡d!\t0.5384615384615384\nGeneration #750:\tYelmoSXwhrPd!\t0.5384615384615384\nGeneration #751:\tEelmojXwkrzd!\t0.5384615384615384\nGeneration #752:\tHel,oSXwhrPd!\t0.6153846153846154\nGeneration #753:\tEelmojXwbrzd!\t0.5384615384615384\nGeneration #754:\tEelEoyXwkrWd!\t0.5384615384615384\nGeneration #755:\twelAoSXwarPd!\t0.5384615384615384\nGeneration #756:\tyelmoo wMrpd!\t0.6153846153846154\nGeneration #757:\tyelmor wMrpd!\t0.6153846153846154\nGeneration #758:\tyelBo,Xwtrpd!\t0.6153846153846154\nGeneration #759:\tKelmof wvrpd!\t0.6153846153846154\nGeneration #760:\tKelmoo w.rpd!\t0.6153846153846154\nGeneration #761:\tAelmoX wvrpd!\t0.6153846153846154\nGeneration #762:\tJelmof wvrkd!\t0.6153846153846154\nGeneration #763:\tAelmox wjrpd!\t0.6153846153846154\nGeneration #764:\tpelmox wjrpd!\t0.6153846153846154\nGeneration #765:\tZeltoB wvrUd!\t0.6153846153846154\nGeneration #766:\tselmoVqwjrpd!\t0.5384615384615384\nGeneration #767:\tAelmoVfwjrpd!\t0.5384615384615384\nGeneration #768:\tAelUoVjwjrud!\t0.5384615384615384\nGeneration #769:\tkelmoVjwjrud!\t0.5384615384615384\nGeneration #770:\tAelmo Cwjrqd!\t0.5384615384615384\nGeneration #771:\tAelmo,Cljrpd!\t0.5384615384615384\nGeneration #772:\tAelmo,Cljrbd!\t0.5384615384615384\nGeneration #773:\tAelmo,Cojrbd!\t0.5384615384615384\nGeneration #774:\tYelmo,Cl,rbd!\t0.5384615384615384\nGeneration #775:\tYelmo,Clhrbd!\t0.5384615384615384\nGeneration #776:\t!elIo,Cojrbd!\t0.5384615384615384\nGeneration #777:\tAelTG,bojrbd!\t0.46153846153846156\nGeneration #778:\tzelIo,WojrSF!\t0.46153846153846156\nGeneration #779:\t¡elIo,WojrSF!\t0.46153846153846156\nGeneration #780:\tzelIo,HZUrbF!\t0.46153846153846156\nGeneration #781:\tzelIo, oUrbo!\t0.5384615384615384\nGeneration #782:\tzelZo, oUrbo!\t0.5384615384615384\nGeneration #783:\tzelZo, GUrbo!\t0.5384615384615384\nGeneration #784:\tzelZo,DGUrbo!\t0.46153846153846156\nGeneration #785:\tBelmR,ñvkrKd!\t0.46153846153846156\nGeneration #786:\tBelmR,lvkrKd!\t0.46153846153846156\nGeneration #787:\tgslIo,Comrmd!\t0.46153846153846156\nGeneration #788:\tlelDR,svkrud!\t0.46153846153846156\nGeneration #789:\tlelbR,svkrud!\t0.46153846153846156\nGeneration #790:\tOelmR,zVkrud!\t0.46153846153846156\nGeneration #791:\tYelmS,sZkr.d!\t0.46153846153846156\nGeneration #792:\tYelmS,oPkr.d!\t0.46153846153846156\nGeneration #793:\tYelmS,aZkrad!\t0.46153846153846156\nGeneration #794:\tYelmS,aZkr!d!\t0.46153846153846156\nGeneration #795:\tYelGS,aJkrad!\t0.46153846153846156\nGeneration #796:\tlelñR,ÑSur¡d!\t0.46153846153846156\nGeneration #797:\toelQR,sXoryd!\t0.5384615384615384\nGeneration #798:\t¡elSR,ÑfYrud!\t0.46153846153846156\nGeneration #799:\tIelñR,ÑvvrFd!\t0.46153846153846156\nGeneration #800:\tIelñR,ÑW!rFd!\t0.46153846153846156\nGeneration #801:\tIel,R, vvrFd!\t0.5384615384615384\nGeneration #802:\tIelRR, vvrFd!\t0.5384615384615384\nGeneration #803:\tIelfR, vvrFd!\t0.5384615384615384\nGeneration #804:\tPelRR, v,rFd!\t0.5384615384615384\nGeneration #805:\tBelfR, vvrFd!\t0.5384615384615384\nGeneration #806:\tIelAR, GvrFd!\t0.5384615384615384\nGeneration #807:\tIelpR, GvrFd!\t0.5384615384615384\nGeneration #808:\tIelpo, GvrFd!\t0.6153846153846154\nGeneration #809:\tIellf, vurFd!\t0.6153846153846154\nGeneration #810:\tIelli, vurFd!\t0.6153846153846154\nGeneration #811:\tIelli, durFd!\t0.6153846153846154\nGeneration #812:\tIelli, ktrFd!\t0.6153846153846154\nGeneration #813:\tHelkh, vZrFd!\t0.6153846153846154\nGeneration #814:\tIellA, ktrFd!\t0.6153846153846154\nGeneration #815:\tIellY, LtrFd!\t0.6153846153846154\nGeneration #816:\tnellI, LqrFd!\t0.6153846153846154\nGeneration #817:\tIellA, GJrId!\t0.6153846153846154\nGeneration #818:\t,ellI, LtrTd!\t0.6153846153846154\nGeneration #819:\tIellA, GLrmd!\t0.6153846153846154\nGeneration #820:\tIellA, GArmd!\t0.6153846153846154\nGeneration #821:\tIellA, izrmd!\t0.6153846153846154\nGeneration #822:\tuellq, GLrmd!\t0.6153846153846154\nGeneration #823:\t,nllc, BdrFd!\t0.5384615384615384\nGeneration #824:\tuellCe Girmd!\t0.5384615384615384\nGeneration #825:\tfelsd, lLrmd!\t0.5384615384615384\nGeneration #826:\tHellA, GZrFdH\t0.6153846153846154\nGeneration #827:\tHella, GZrFdH\t0.6153846153846154\nGeneration #828:\tHella, GZrudH\t0.6153846153846154\nGeneration #829:\tHella, GZrudt\t0.6153846153846154\nGeneration #830:\tHellai GZrudt\t0.5384615384615384\nGeneration #831:\tHella, GZrudt\t0.6153846153846154\nGeneration #832:\tHella, GZrfdt\t0.6153846153846154\nGeneration #833:\tHella, EZrfdt\t0.6153846153846154\nGeneration #834:\tHelCZ, yXrudt\t0.5384615384615384\nGeneration #835:\tHellC, yYrudt\t0.6153846153846154\nGeneration #836:\tHelsr, yzrudt\t0.5384615384615384\nGeneration #837:\tHelTr, yñrud¡\t0.5384615384615384\nGeneration #838:\tHelrr, yñrfd¡\t0.5384615384615384\nGeneration #839:\tHelur, gzrudt\t0.5384615384615384\nGeneration #840:\tHelar, nñr.d¡\t0.5384615384615384\nGeneration #841:\tHelrd, tQrud¡\t0.5384615384615384\nGeneration #842:\tHelTr, Fñrud¡\t0.5384615384615384\nGeneration #843:\tHelOr, tñrudM\t0.5384615384615384\nGeneration #844:\tHel r, tñrudM\t0.5384615384615384\nGeneration #845:\tHel M, XYrud¡\t0.5384615384615384\nGeneration #846:\tHelrD, DGrkdY\t0.5384615384615384\nGeneration #847:\tHelrD, DorkdY\t0.6153846153846154\nGeneration #848:\tHelJD, DorkdY\t0.6153846153846154\nGeneration #849:\tHelzT, Dtrudw\t0.5384615384615384\nGeneration #850:\tHelzT, Etrudw\t0.5384615384615384\nGeneration #851:\tHelrZ, DGrgdS\t0.5384615384615384\nGeneration #852:\tHelzF, Dtrudi\t0.5384615384615384\nGeneration #853:\tHelzF, Btrudi\t0.5384615384615384\nGeneration #854:\tHelzF, Bzrudi\t0.5384615384615384\nGeneration #855:\tHeluT, nJrudw\t0.5384615384615384\nGeneration #856:\tHelJR, kGrEd \t0.5384615384615384\nGeneration #857:\tHeluT, qJrYdZ\t0.5384615384615384\nGeneration #858:\tHelQx, UJrLdw\t0.5384615384615384\nGeneration #859:\tHelQQ, qJrLdw\t0.5384615384615384\nGeneration #860:\tHelQx, kJrLdB\t0.5384615384615384\nGeneration #861:\tHelRx, UVrLdw\t0.5384615384615384\nGeneration #862:\tHelZT, q¡rhdZ\t0.5384615384615384\nGeneration #863:\tHelbx, sJrydB\t0.5384615384615384\nGeneration #864:\tHelZD, m¡rhdZ\t0.5384615384615384\nGeneration #865:\tHelZl, VergdI\t0.5384615384615384\nGeneration #866:\tHelZQ, ceryd!\t0.6153846153846154\nGeneration #867:\tHellQ, ceryd!\t0.6923076923076923\nGeneration #868:\tHellQ, cerydG\t0.6153846153846154\nGeneration #869:\tHelZQ, TerCd!\t0.6153846153846154\nGeneration #870:\tHelY,, r¡rldx\t0.6153846153846154\nGeneration #871:\tHelLc, ferCd!\t0.6153846153846154\nGeneration #872:\tHellZ, T.rydM\t0.6153846153846154\nGeneration #873:\tHelaz, FErCdy\t0.5384615384615384\nGeneration #874:\tjellZ, T.rldM\t0.6153846153846154\nGeneration #875:\tjell., T.rldM\t0.6153846153846154\nGeneration #876:\tdellZ, G.rldM\t0.6153846153846154\nGeneration #877:\tHellz, Fo,CdZ\t0.6153846153846154\nGeneration #878:\tHellO, qRrCdZ\t0.6153846153846154\nGeneration #879:\tHellO, qRrCdZ\t0.6153846153846154\nGeneration #880:\tHellz, Co,wdZ\t0.6153846153846154\nGeneration #881:\tHellz, CoVwdZ\t0.6153846153846154\nGeneration #882:\tHellO, jRrddd\t0.6153846153846154\nGeneration #883:\tHelll, qlrTdW\t0.6153846153846154\nGeneration #884:\tHelll, qMrTdW\t0.6153846153846154\nGeneration #885:\tHelll, qMrTdb\t0.6153846153846154\nGeneration #886:\tHellO, JErlZU\t0.6153846153846154\nGeneration #887:\tHelll, gMrTME\t0.5384615384615384\nGeneration #888:\tHellP, hwqIdH\t0.5384615384615384\nGeneration #889:\tHelll, ¡MrIME\t0.5384615384615384\nGeneration #890:\tHelll, ¡MrEME\t0.5384615384615384\nGeneration #891:\tHelll, ¡MrHM!\t0.6153846153846154\nGeneration #892:\tHell , wMrEME\t0.6153846153846154\nGeneration #893:\tHellC, ¡Mr¡M!\t0.6153846153846154\nGeneration #894:\tHellN, wMrMME\t0.6153846153846154\nGeneration #895:\tHell , w¡r¡M¡\t0.6153846153846154\nGeneration #896:\tHell , w¡ruI¡\t0.6153846153846154\nGeneration #897:\tHell , w¡rñk¡\t0.6153846153846154\nGeneration #898:\tHellC, w¡rEU¡\t0.6153846153846154\nGeneration #899:\tHell , w¡ruIL\t0.6153846153846154\nGeneration #900:\tHell , wyrñkf\t0.6153846153846154\nGeneration #901:\tHell , wyrMkf\t0.6153846153846154\nGeneration #902:\tHellD, wyrMkf\t0.6153846153846154\nGeneration #903:\tH!ll!, wvrIU,\t0.5384615384615384\nGeneration #904:\tHellL, dBjTu!\t0.5384615384615384\nGeneration #905:\tHellD, kkVIM!\t0.5384615384615384\nGeneration #906:\tHellf, kbYIM!\t0.5384615384615384\nGeneration #907:\tHelll, RBwTM!\t0.5384615384615384\nGeneration #908:\tHellW, RBCPM!\t0.5384615384615384\nGeneration #909:\tHellD, kcBIQ!\t0.5384615384615384\nGeneration #910:\tHellD, kcñIQ!\t0.5384615384615384\nGeneration #911:\tHell,, kcñIQ!\t0.5384615384615384\nGeneration #912:\tHell¡, F¡kmM!\t0.5384615384615384\nGeneration #913:\tHellW, ÑTWZq!\t0.5384615384615384\nGeneration #914:\tHell,, kc,Id!\t0.6153846153846154\nGeneration #915:\tHell,, kc,md!\t0.6153846153846154\nGeneration #916:\tHell,, kcimd!\t0.6153846153846154\nGeneration #917:\tHell,, kciZd!\t0.6153846153846154\nGeneration #918:\tbellF, kc,jd!\t0.5384615384615384\nGeneration #919:\tjell,, km,jd!\t0.5384615384615384\nGeneration #920:\tbellR, !c,jd!\t0.5384615384615384\nGeneration #921:\tHellQ, pctmK!\t0.5384615384615384\nGeneration #922:\tbellF, PN,cd!\t0.5384615384615384\nGeneration #923:\tHellr, FcMmK!\t0.5384615384615384\nGeneration #924:\tHellx,ñaciTd!\t0.5384615384615384\nGeneration #925:\t,ellQ, kcrmB!\t0.5384615384615384\nGeneration #926:\tHellV, kcñmQ!\t0.5384615384615384\nGeneration #927:\tHellQ, km Cg!\t0.5384615384615384\nGeneration #928:\tHellz, kmzYg!\t0.5384615384615384\nGeneration #929:\t,ellQ, kQrmj!\t0.5384615384615384\nGeneration #930:\tBellB, kQrmB!\t0.5384615384615384\nGeneration #931:\tBellB, TQrmB!\t0.5384615384615384\nGeneration #932:\txellI, kgrqB!\t0.5384615384615384\nGeneration #933:\tBellB, Thrm,!\t0.5384615384615384\nGeneration #934:\tHellQ, WNrmf!\t0.6153846153846154\nGeneration #935:\t,ello, WNrmh!\t0.6153846153846154\nGeneration #936:\tHellp, WFrmf!\t0.6153846153846154\nGeneration #937:\t,ello, WIrml!\t0.6153846153846154\nGeneration #938:\tHellp, CFrmf!\t0.6153846153846154\nGeneration #939:\tHellp, CFrTf!\t0.6153846153846154\nGeneration #940:\tHellp, CFrT¡!\t0.6153846153846154\nGeneration #941:\t,ello, WIr,o!\t0.6153846153846154\nGeneration #942:\tHellp, CXrTh!\t0.6153846153846154\nGeneration #943:\taello, WzrLn!\t0.6153846153846154\nGeneration #944:\t,ello, Wzr L!\t0.6153846153846154\nGeneration #945:\tHellp, zXrnk!\t0.6153846153846154\nGeneration #946:\t,ello, Dzr L!\t0.6153846153846154\nGeneration #947:\tHellC, QarnU!\t0.6153846153846154\nGeneration #948:\tHellC, wFrnU!\t0.6923076923076923\nGeneration #949:\tHellC, tSrnU!\t0.6153846153846154\nGeneration #950:\tHellC, tPrnq!\t0.6153846153846154\nGeneration #951:\tHellC, .FrSU!\t0.6153846153846154\nGeneration #952:\tHellC, tPrUq!\t0.6153846153846154\nGeneration #953:\tHellC, NPruO!\t0.6153846153846154\nGeneration #954:\tHellC, IyrSq!\t0.6153846153846154\nGeneration #955:\tHellC, BZrSU!\t0.6153846153846154\nGeneration #956:\tHellC, BlrSk!\t0.6153846153846154\nGeneration #957:\tHellz, XcrFq!\t0.6153846153846154\nGeneration #958:\tHellC, ñargk!\t0.6153846153846154\nGeneration #959:\tHells, YArgk!\t0.6153846153846154\nGeneration #960:\tHells, ZArgk!\t0.6153846153846154\nGeneration #961:\tHells, YArÑk!\t0.6153846153846154\nGeneration #962:\tHellB, YArwZ!\t0.6153846153846154\nGeneration #963:\tHells, zÑrwk!\t0.6153846153846154\nGeneration #964:\tHells, YArmk!\t0.6153846153846154\nGeneration #965:\tHellB, WArwW!\t0.6153846153846154\nGeneration #966:\tHellz, Yprbk!\t0.6153846153846154\nGeneration #967:\tHellS, sArmv!\t0.6153846153846154\nGeneration #968:\tHellh, YBrck!\t0.6153846153846154\nGeneration #969:\tHellh, YUrck!\t0.6153846153846154\nGeneration #970:\tHellh, Yarck!\t0.6153846153846154\nGeneration #971:\tHellY, OBrbM!\t0.6153846153846154\nGeneration #972:\tHells, xBrbM!\t0.6153846153846154\nGeneration #973:\tHellw, VErXv!\t0.6153846153846154\nGeneration #974:\tHellg, xurbM!\t0.6153846153846154\nGeneration #975:\tHellg, xBrWO!\t0.6153846153846154\nGeneration #976:\tHellg, mIrbM!\t0.6153846153846154\nGeneration #977:\tHellK, mIrbM!\t0.6153846153846154\nGeneration #978:\tHello, mIrNM!\t0.6923076923076923\nGeneration #979:\tHell!, mIrbM!\t0.6153846153846154\nGeneration #980:\tHell., mIrbM!\t0.6153846153846154\nGeneration #981:\tHellVb IOrkd!\t0.6153846153846154\nGeneration #982:\tHellY, CtrbX!\t0.6153846153846154\nGeneration #983:\tHelli, IsQbd!\t0.6153846153846154\nGeneration #984:\tHelli, IO!bd!\t0.6153846153846154\nGeneration #985:\tHellVE COrkd!\t0.6153846153846154\nGeneration #986:\tHellVE JxrMd!\t0.6153846153846154\nGeneration #987:\tHellVT sOrqd!\t0.6153846153846154\nGeneration #988:\tHell C JOrMd!\t0.6153846153846154\nGeneration #989:\tHell C JwrMd!\t0.6153846153846154\nGeneration #990:\tHelloc JOrBd!\t0.6923076923076923\nGeneration #991:\tHelloc COrBd!\t0.6923076923076923\nGeneration #992:\tHelloc nZrBd!\t0.6923076923076923\nGeneration #993:\tHelloc XvrBd!\t0.6923076923076923\nGeneration #994:\tHelloc Xvrñd!\t0.6923076923076923\nGeneration #995:\tHelloc Xvr.d!\t0.6923076923076923\nGeneration #996:\tHelloN llrid!\t0.6923076923076923\nGeneration #997:\tHelloc osrgd!\t0.6923076923076923\nGeneration #998:\tHellol osrgd!\t0.6923076923076923\nGeneration #999:\tHelloc oÑrqd!\t0.6923076923076923\nGeneration #1000:\tHSllo, RsrWd!\t0.6923076923076923\nHelloc bsm!d! 0.6153846153846154\n"
        }
      ]
    },
    {
      "cell_type": "code",
      "execution_count": null,
      "metadata": {},
      "outputs": [],
      "source": []
    }
  ],
  "metadata": {
    "colab": {
      "name": "genetic-algorithms.ipynb",
      "provenance": [],
      "collapsed_sections": []
    },
    "kernelspec": {
      "name": "python3",
      "display_name": "Python 3"
    }
  },
  "nbformat": 4,
  "nbformat_minor": 0
}