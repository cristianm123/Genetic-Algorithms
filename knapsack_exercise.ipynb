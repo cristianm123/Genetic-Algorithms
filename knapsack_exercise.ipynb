{
 "cells": [
  {
   "cell_type": "markdown",
   "metadata": {
    "colab_type": "text",
    "id": "Z77R-epE0yaH"
   },
   "source": [
    "# Knapsack problem\n",
    "\n",
    "Given a list of items and a bag maximum capacity, find the best combination of items.\n",
    "\n",
    "The algorithm to complete:"
   ]
  },
  {
   "cell_type": "code",
   "execution_count": null,
   "metadata": {
    "colab": {},
    "colab_type": "code",
    "id": "Iqigakkn0hXE"
   },
   "outputs": [],
   "source": [
    "import random\n",
    "import math\n",
    "\n",
    "class KnapsackGenetic:\n",
    "  def __init__(self, params):\n",
    "    self.ALL_NUMBERS = list(range(params[\"max_per_item\"] + 1))\n",
    "    self.params = params\n",
    "    self.specimen = [None] * self.params[\"generation_size\"]\n",
    "\n",
    "    self.create_initial_population()\n",
    "\n",
    "  def create_initial_population(self):\n",
    "    self.specimen = list(map(\n",
    "        lambda _: list(map(\n",
    "            lambda _: random.choice(self.ALL_NUMBERS),\n",
    "            [None] * len(self.params[\"items\"])\n",
    "        )),\n",
    "        self.specimen\n",
    "    ))\n",
    "\n",
    "  def fitness(self, specimen):\n",
    "    # Use params: self.params[\"max_weight\"] to check the max weight of the specimen\n",
    "    # Use params: self.params[\"items\"]\n",
    "    if sum(map(lambda x: x[0]*x[1].weight, zip(specimen, self.params[\"items\"]))) > self.params[\"max_weight\"]:\n",
    "      return -1000;\n",
    "    else:\n",
    "      return sum(map(lambda x: x[0]*x[1].value, zip(specimen, self.params[\"items\"])))\n",
    "\n",
    "  def is_converged(self):\n",
    "    if any(self.fitness(specimen) >= self.params[\"fit_threshold\"] for specimen in self.specimen):\n",
    "      return True\n",
    "\n",
    "    return False\n",
    "\n",
    "  def get_fit(self):\n",
    "    evaluations = self.fitness_all()\n",
    "\n",
    "    max_evaluation = max(evaluations)\n",
    "\n",
    "    max_index = evaluations.index(max_evaluation)\n",
    "\n",
    "    return self.specimen[max_index], max_evaluation\n",
    "\n",
    "  def fitness_all(self):\n",
    "    return list(map(self.fitness, self.specimen))\n",
    "\n",
    "  def select_specimen(self, specimen_evaluations):\n",
    "    specimen_and_evaluations = list(zip(self.specimen, specimen_evaluations))\n",
    "\n",
    "    specimen_and_evaluations.sort(key=lambda e: e[1], reverse = True)\n",
    "\n",
    "    n_top = int(math.ceil(len(self.specimen) * params[\"select_top\"]))\n",
    "\n",
    "    return list(map(lambda s: s[0], specimen_and_evaluations[:n_top]))\n",
    "  \n",
    "  def mutate(self, specimen):\n",
    "    # Use parameter: self.params[\"max_per_item\"] to check maximum for gene\n",
    "    # Use parameter: self.params[\"mutation_percentage\"]\n",
    "    n_digits = int(params[\"mutation_percentage\"] * (len(specimen) - 1))\n",
    "\n",
    "    digit_indexes = random.sample(list(range(len(specimen))), n_digits)\n",
    "    #print(specimen)\n",
    "    mutated = specimen[:]\n",
    "    #print(str(n_digits))\n",
    "    for idx in digit_indexes:\n",
    "      mutated[idx] = random.choice(range(self.params[\"max_per_item\"]+1))\n",
    "      \n",
    "\n",
    "    return mutated\n",
    "\n",
    "  def generate_children(self, selected_specimen):  \n",
    "    mutated_specimen = [None] * len(self.specimen)\n",
    "\n",
    "    for i in range(len(mutated_specimen)):\n",
    "      mutated_specimen[i] = self.mutate(random.choice(selected_specimen))\n",
    "\n",
    "    return mutated_specimen\n",
    "\n",
    "  def run(self):\n",
    "    generation_number = 1\n",
    "\n",
    "    while generation_number <= self.params[\"max_generations\"] and not self.is_converged():\n",
    "      top_generation = self.get_fit()\n",
    "      top_str = \"\".join(str(top_generation[0]))\n",
    "      #print(top_generation)\n",
    "      print(f\"Generation #{generation_number}:\\t{top_str}\\t{top_generation[1]}\")\n",
    "\n",
    "      specimen_evaluations = self.fitness_all()\n",
    "      #print(specimen_evaluations)\n",
    "      selected_specimen = self.select_specimen(specimen_evaluations)\n",
    "      self.specimen = self.generate_children(selected_specimen)\n",
    "      \n",
    "      generation_number += 1\n",
    "    \n",
    "    return self.get_fit()"
   ]
  },
  {
   "cell_type": "markdown",
   "metadata": {
    "colab_type": "text",
    "id": "hnHAziSc1ChK"
   },
   "source": [
    "To run the algorithm:"
   ]
  },
  {
   "cell_type": "code",
   "execution_count": null,
   "metadata": {
    "tags": [
     "outputPrepend",
     "outputPrepend"
    ]
   },
   "outputs": [],
   "source": [
    "class Item:\n",
    "  def __init__(self, value, weight):\n",
    "    self.value = value\n",
    "    self.weight = weight\n",
    "\n",
    "params = {\n",
    "    \"mutation_percentage\": 0.3,\n",
    "    \"select_top\": 0.4,\n",
    "    \"generation_size\": 10,\n",
    "    \"fit_threshold\": 36,\n",
    "    \"max_generations\": 1000,\n",
    "    \"max_weight\": 30,\n",
    "    \"max_per_item\": 5,\n",
    "    \"items\": [Item(4, 12), Item(2, 2), Item(2, 1), Item(1, 1), Item(10,4)]\n",
    "}\n",
    "knapsack = KnapsackGenetic(params)\n",
    "knapsack.run()"
   ]
  },
  {
   "cell_type": "code",
   "execution_count": null,
   "metadata": {},
   "outputs": [],
   "source": []
  }
 ],
 "metadata": {
  "colab": {
   "collapsed_sections": [],
   "name": "knapsack-exercise.ipynb",
   "provenance": []
  },
  "kernelspec": {
   "display_name": "Python 3",
   "language": "python",
   "name": "python3"
  },
  "language_info": {
   "codemirror_mode": {
    "name": "ipython",
    "version": 3
   },
   "file_extension": ".py",
   "mimetype": "text/x-python",
   "name": "python",
   "nbconvert_exporter": "python",
   "pygments_lexer": "ipython3",
   "version": "3.7.4-final"
  }
 },
 "nbformat": 4,
 "nbformat_minor": 1
}